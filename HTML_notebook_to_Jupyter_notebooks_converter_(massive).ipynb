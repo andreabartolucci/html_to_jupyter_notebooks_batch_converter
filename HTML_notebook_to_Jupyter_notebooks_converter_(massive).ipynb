{
 "cells": [
  {
   "cell_type": "code",
   "execution_count": 72,
   "id": "77105ae9",
   "metadata": {
    "ExecuteTime": {
     "end_time": "2023-07-17T12:54:45.429514Z",
     "start_time": "2023-07-17T12:54:41.710470Z"
    }
   },
   "outputs": [
    {
     "name": "stderr",
     "output_type": "stream",
     "text": [
      "C:\\Users\\Andrea\\AppData\\Local\\Temp\\ipykernel_23724\\2611917248.py:5: DeprecationWarning: Importing display from IPython.core.display is deprecated since IPython 7.14, please import from IPython display\n",
      "  from IPython.core.display import display, HTML\n"
     ]
    },
    {
     "name": "stdout",
     "output_type": "stream",
     "text": [
      "C:\\Andrea\\LLL\\CQF\\COURSES\\Module 4\\Exam\\09-Linear-Regression.html\n",
      "C:\\Andrea\\LLL\\CQF\\COURSES\\Module 4\\Exam\\11-XGBoost.html\n",
      "C:\\Andrea\\LLL\\CQF\\COURSES\\Module 4\\Exam\\KNN for Stock Prediction.html\n",
      "C:\\Andrea\\LLL\\CQF\\COURSES\\Module 4\\Exam\\submission\\notebook.html\n",
      "C:\\Andrea\\LLL\\CQF\\COURSES\\Python\\Python Labs\\Application of Neural Networks using TensorFlow & Keras\\13- Application of Neural Networks using TensorFlow & Keras.html\n",
      "C:\\Andrea\\LLL\\CQF\\COURSES\\Python\\Python Labs\\Binomial Trees in Option Pricing\\02-Binomial-Model.html\n",
      "C:\\Andrea\\LLL\\CQF\\COURSES\\Python\\Python Labs\\Binomial Trees in Option Pricing\\02-Modeling-Returns.html\n",
      "C:\\Andrea\\LLL\\CQF\\COURSES\\Python\\Python Labs\\Black Scholes Option Pricing\\05_BSOptionPricing.html\n",
      "C:\\Andrea\\LLL\\CQF\\COURSES\\Python\\Python Labs\\CDS Pricing\\Credit Lab I - CDS Analytics I\\29-CDS-Analytics-I.html\n",
      "C:\\Andrea\\LLL\\CQF\\COURSES\\Python\\Python Labs\\CDS Pricing\\__MACOSX\\Credit Lab I - CDS Analytics I\\._29-CDS-Analytics-I.html\n",
      "C:\\Andrea\\LLL\\CQF\\COURSES\\Python\\Python Labs\\Finite Difference Methods\\Finite Difference Methods.zip.html\n",
      "C:\\Andrea\\LLL\\CQF\\COURSES\\Python\\Python Labs\\Gradient Boosting for Price Prediction\\11-XGBoost.html\n",
      "C:\\Andrea\\LLL\\CQF\\COURSES\\Python\\Python Labs\\Implied Volatility\\08_ImpliedVolatility.html\n",
      "C:\\Andrea\\LLL\\CQF\\COURSES\\Python\\Python Labs\\Intensity Models\\Credit Lab II - CDS Analytics II - CDS Pricing\\30-CDS-Analytics-II.html\n",
      "C:\\Andrea\\LLL\\CQF\\COURSES\\Python\\Python Labs\\Intensity Models\\__MACOSX\\Credit Lab II - CDS Analytics II - CDS Pricing\\._30-CDS-Analytics-II.html\n",
      "C:\\Andrea\\LLL\\CQF\\COURSES\\Python\\Python Labs\\Introduction to Financial Times Series\\01-Financial-Timeseries.html\n",
      "C:\\Andrea\\LLL\\CQF\\COURSES\\Python\\Python Labs\\Introduction to Machine Learning using Scikit-learn\\09-Linear-Regression.html\n",
      "C:\\Andrea\\LLL\\CQF\\COURSES\\Python\\Python Labs\\K-Means Clustering & Self Organizing Maps\\12-KMeans.html\n",
      "C:\\Andrea\\LLL\\CQF\\COURSES\\Python\\Python Labs\\K-Means Clustering & Self Organizing Maps\\12-SOM.html\n",
      "C:\\Andrea\\LLL\\CQF\\COURSES\\Python\\Python Labs\\KNN for Stock Prediction\\KNN for Stock Prediction.html\n",
      "C:\\Andrea\\LLL\\CQF\\COURSES\\Python\\Python Labs\\Monte Carlo Simulation\\06_MCOptionPricing.html\n",
      "C:\\Andrea\\LLL\\CQF\\COURSES\\Python\\Python Labs\\Portfolio Optimization\\03-Portfolio-Optimization-Plotly.html\n",
      "C:\\Andrea\\LLL\\CQF\\COURSES\\Python\\Python Labs\\Reinforcement Learning\\14- Reinforcement Learning.html\n",
      "C:\\Andrea\\LLL\\CQF\\COURSES\\Python\\Python Labs\\Value at Risk & GARCH\\Value at Risk & GARCH-1.html\n",
      "C:\\Andrea\\LLL\\CQF\\COURSES\\Python\\Python Labs\\Yield Curve Data Analysis\\Fixed Income Lab - Curve Data and PCA\\28-YieldCurve-PCA.html\n",
      "C:\\Andrea\\LLL\\CQF\\COURSES\\Python\\Python Labs\\Yield Curve Data Analysis\\__MACOSX\\Fixed Income Lab - Curve Data and PCA\\._28-YieldCurve-PCA.html\n"
     ]
    }
   ],
   "source": [
    "from bs4 import BeautifulSoup\n",
    "import json\n",
    "import urllib.request\n",
    "import os\n",
    "from IPython.core.display import display, HTML\n",
    "\n",
    "root_path=r\"C:\\Andrea\\LLL\\CQF\\COURSES\"\n",
    "os.chdir(root_path)\n",
    "\n",
    "html_files = []\n",
    "\n",
    "for dirpath, dirnames, filenames in os.walk(root_path):\n",
    "    for filename in filenames:\n",
    "        if filename.endswith('.html'):\n",
    "            html_files.append(os.path.join(dirpath, filename))\n",
    "\n",
    "for html_file in html_files:\n",
    "    print(html_file)\n",
    "\n",
    "for html_file in html_files:\n",
    "    \n",
    "    response = open(html_file, errors='ignore')\n",
    "    text = response.read()\n",
    "    \n",
    "    soup = BeautifulSoup(text, 'lxml')\n",
    "\n",
    "    # see some of the html\n",
    "    dictionary = {'nbformat': 4, 'nbformat_minor': 1, 'cells': [], 'metadata': {}}\n",
    "    for d in soup.findAll(\"div\"):\n",
    "        if 'class' in d.attrs.keys():\n",
    "            for clas in d.attrs[\"class\"]:\n",
    "                if clas in [\"jp-RenderedMarkdown\", \"jp-InputArea-editor\"]:\n",
    "                    # code cell\n",
    "                    if clas == \"jp-InputArea-editor\":\n",
    "                        cell = {}\n",
    "                        cell['metadata'] = {}\n",
    "                        cell['outputs'] = []\n",
    "                        cell['source'] = [d.get_text()]\n",
    "                        cell['execution_count'] = None\n",
    "                        cell['cell_type'] = 'code'\n",
    "                        dictionary['cells'].append(cell)\n",
    "\n",
    "                    else:\n",
    "                        cell = {}\n",
    "                        cell['metadata'] = {}\n",
    "    #                     cell['outputs'] = []\n",
    "                        cell['source'] = [d.decode_contents()]\n",
    "                        cell['cell_type'] = 'markdown'\n",
    "                        dictionary['cells'].append(cell)\n",
    "    open(html_file.replace(\"html\",\"ipynb\"), 'w').write(json.dumps(dictionary))            "
   ]
  },
  {
   "cell_type": "code",
   "execution_count": 69,
   "id": "e13b1eff",
   "metadata": {
    "ExecuteTime": {
     "end_time": "2023-07-17T12:52:33.960115Z",
     "start_time": "2023-07-17T12:52:33.932114Z"
    }
   },
   "outputs": [
    {
     "data": {
      "text/plain": [
       "479147"
      ]
     },
     "execution_count": 69,
     "metadata": {},
     "output_type": "execute_result"
    }
   ],
   "source": []
  },
  {
   "cell_type": "code",
   "execution_count": null,
   "id": "bfab11a1",
   "metadata": {},
   "outputs": [],
   "source": []
  }
 ],
 "metadata": {
  "hide_input": false,
  "kernelspec": {
   "display_name": "Python 3 (ipykernel)",
   "language": "python",
   "name": "python3"
  },
  "language_info": {
   "codemirror_mode": {
    "name": "ipython",
    "version": 3
   },
   "file_extension": ".py",
   "mimetype": "text/x-python",
   "name": "python",
   "nbconvert_exporter": "python",
   "pygments_lexer": "ipython3",
   "version": "3.10.11"
  },
  "toc": {
   "base_numbering": 1,
   "nav_menu": {},
   "number_sections": true,
   "sideBar": true,
   "skip_h1_title": false,
   "title_cell": "Table of Contents",
   "title_sidebar": "Contents",
   "toc_cell": false,
   "toc_position": {},
   "toc_section_display": true,
   "toc_window_display": false
  },
  "varInspector": {
   "cols": {
    "lenName": 16,
    "lenType": 16,
    "lenVar": 40
   },
   "kernels_config": {
    "python": {
     "delete_cmd_postfix": "",
     "delete_cmd_prefix": "del ",
     "library": "var_list.py",
     "varRefreshCmd": "print(var_dic_list())"
    },
    "r": {
     "delete_cmd_postfix": ") ",
     "delete_cmd_prefix": "rm(",
     "library": "var_list.r",
     "varRefreshCmd": "cat(var_dic_list()) "
    }
   },
   "types_to_exclude": [
    "module",
    "function",
    "builtin_function_or_method",
    "instance",
    "_Feature"
   ],
   "window_display": false
  }
 },
 "nbformat": 4,
 "nbformat_minor": 5
}
